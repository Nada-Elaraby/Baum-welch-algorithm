{
 "cells": [
  {
   "cell_type": "code",
   "execution_count": 1,
   "id": "843f68f8",
   "metadata": {},
   "outputs": [
    {
     "name": "stdout",
     "output_type": "stream",
     "text": [
      "Requirement already satisfied: markovify in c:\\users\\iuy\\anaconda3\\lib\\site-packages (0.9.4)\n",
      "Requirement already satisfied: unidecode in c:\\users\\iuy\\anaconda3\\lib\\site-packages (from markovify) (1.2.0)\n"
     ]
    }
   ],
   "source": [
    "!pip install markovify"
   ]
  },
  {
   "cell_type": "code",
   "execution_count": 2,
   "id": "16a40a74",
   "metadata": {},
   "outputs": [
    {
     "name": "stdout",
     "output_type": "stream",
     "text": [
      "In other words, the future state of the system depends only on the sequence of events that preceded it.\n"
     ]
    }
   ],
   "source": [
    "import markovify\n",
    "\n",
    "# Define a text corpus\n",
    "text_corpus = \"\"\"\n",
    "a stochastic model that describes a sequence of possible events\n",
    "in which the probability of each event depends only on the state \n",
    "attained in the previous event. In other words, the future state \n",
    "of the system depends only on its current state and not on the \n",
    "sequence of events that preceded it.\n",
    "\"\"\"\n",
    "\n",
    "# Build the Markov chain model\n",
    "text_model = markovify.Text(text_corpus)\n",
    "\n",
    "# Generate a new sentence based on the Markov chain model\n",
    "generated_sentence = text_model.make_sentence()\n",
    "\n",
    "# Print the generated sentence\n",
    "print(generated_sentence)\n"
   ]
  },
  {
   "cell_type": "code",
   "execution_count": null,
   "id": "94fceb39",
   "metadata": {},
   "outputs": [],
   "source": []
  }
 ],
 "metadata": {
  "kernelspec": {
   "display_name": "Python 3 (ipykernel)",
   "language": "python",
   "name": "python3"
  },
  "language_info": {
   "codemirror_mode": {
    "name": "ipython",
    "version": 3
   },
   "file_extension": ".py",
   "mimetype": "text/x-python",
   "name": "python",
   "nbconvert_exporter": "python",
   "pygments_lexer": "ipython3",
   "version": "3.11.5"
  }
 },
 "nbformat": 4,
 "nbformat_minor": 5
}
