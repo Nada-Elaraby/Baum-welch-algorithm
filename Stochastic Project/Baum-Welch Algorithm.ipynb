{
 "cells": [
  {
   "cell_type": "code",
   "execution_count": 3,
   "id": "74d199e1",
   "metadata": {
    "scrolled": false
   },
   "outputs": [
    {
     "name": "stdout",
     "output_type": "stream",
     "text": [
      "Requirement already satisfied: hmmlearn in c:\\users\\iuy\\anaconda3\\lib\\site-packages (0.3.0)\n",
      "Requirement already satisfied: numpy>=1.10 in c:\\users\\iuy\\anaconda3\\lib\\site-packages (from hmmlearn) (1.24.3)\n",
      "Requirement already satisfied: scikit-learn!=0.22.0,>=0.16 in c:\\users\\iuy\\anaconda3\\lib\\site-packages (from hmmlearn) (1.3.0)\n",
      "Requirement already satisfied: scipy>=0.19 in c:\\users\\iuy\\anaconda3\\lib\\site-packages (from hmmlearn) (1.11.1)\n",
      "Requirement already satisfied: joblib>=1.1.1 in c:\\users\\iuy\\anaconda3\\lib\\site-packages (from scikit-learn!=0.22.0,>=0.16->hmmlearn) (1.2.0)\n",
      "Requirement already satisfied: threadpoolctl>=2.0.0 in c:\\users\\iuy\\anaconda3\\lib\\site-packages (from scikit-learn!=0.22.0,>=0.16->hmmlearn) (2.2.0)\n"
     ]
    }
   ],
   "source": [
    "!pip install hmmlearn \n",
    "from hmmlearn import hmm\n",
    "import numpy as np"
   ]
  },
  {
   "cell_type": "code",
   "execution_count": 4,
   "id": "6c33c441",
   "metadata": {},
   "outputs": [
    {
     "name": "stderr",
     "output_type": "stream",
     "text": [
      "MultinomialHMM has undergone major changes. The previous version was implementing a CategoricalHMM (a special case of MultinomialHMM). This new implementation follows the standard definition for a Multinomial distribution (e.g. as in https://en.wikipedia.org/wiki/Multinomial_distribution). See these issues for details:\n",
      "https://github.com/hmmlearn/hmmlearn/issues/335\n",
      "https://github.com/hmmlearn/hmmlearn/issues/340\n"
     ]
    },
    {
     "name": "stdout",
     "output_type": "stream",
     "text": [
      "Estimated Transition Matrix:\n",
      "[[0.02181207 0.97818793]\n",
      " [0.9290286  0.0709714 ]]\n",
      "\n",
      "Estimated Emission Matrix:\n",
      "[[1.]\n",
      " [1.]]\n",
      "\n",
      "Estimated Initial State Distribution:\n",
      "[0.29666071 0.70333929]\n"
     ]
    }
   ],
   "source": [
    "def baum_welch(observed_sequence, num_states, num_iterations):\n",
    "    # Initialize HMM parameters randomly or based on prior knowledge\n",
    "    model = hmm.MultinomialHMM(n_components = num_states, n_iter = num_iterations)\n",
    "    \n",
    "    # Reshape the observed sequence to a 2D array\n",
    "    observed_sequence = np.array(observed_sequence).reshape(-1, 1)\n",
    "    \n",
    "    # Train the HMM using the Baum-Welch algorithm\n",
    "    model.fit(observed_sequence)\n",
    "    \n",
    "    # Retrieve the estimated HMM parameters\n",
    "    transition_matrix = model.transmat_\n",
    "    emission_matrix = model.emissionprob_\n",
    "    initial_state_distribution = model.startprob_\n",
    "    \n",
    "    return transition_matrix, emission_matrix, initial_state_distribution\n",
    "\n",
    "# Example used\n",
    "observed_sequence = [0, 1, 0, 1, 0]  # Observed sequence of observable events\n",
    "num_states = 2  # Number of states in the HMM\n",
    "num_iterations = 100  # Maximum number of iterations for the algorithm\n",
    "\n",
    "transition_matrix, emission_matrix, initial_state_distribution = baum_welch(observed_sequence, \n",
    "                                                                     num_states, num_iterations)\n",
    "\n",
    "print(\"Estimated Transition Matrix:\")\n",
    "print(transition_matrix)\n",
    "print(\"\\nEstimated Emission Matrix:\")\n",
    "print(emission_matrix)\n",
    "print(\"\\nEstimated Initial State Distribution:\")\n",
    "print(initial_state_distribution)"
   ]
  }
 ],
 "metadata": {
  "kernelspec": {
   "display_name": "Python 3 (ipykernel)",
   "language": "python",
   "name": "python3"
  },
  "language_info": {
   "codemirror_mode": {
    "name": "ipython",
    "version": 3
   },
   "file_extension": ".py",
   "mimetype": "text/x-python",
   "name": "python",
   "nbconvert_exporter": "python",
   "pygments_lexer": "ipython3",
   "version": "3.11.5"
  }
 },
 "nbformat": 4,
 "nbformat_minor": 5
}
